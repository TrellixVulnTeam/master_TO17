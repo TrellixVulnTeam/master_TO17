{
 "cells": [
  {
   "cell_type": "markdown",
   "metadata": {},
   "source": [
    "# Problema 1\n",
    "En el archivo auto.csv se encuentran los siguientes datos de diferentes automóviles:\n",
    "\n",
    "Cilindros\n",
    "Cilindrada\n",
    "Potencia\n",
    "Peso\n",
    "Aceleración\n",
    "Año del coche\n",
    "Origen\n",
    "Consumo (mpg)\n",
    "\n",
    "Las unidades de las características de los automóviles no se encuentran en el sistema internacional. La variable “origen” es un código que identifica al país de origen.\n",
    "\n",
    "Crea un modelo con él para que se pueda estimar el consumo de un vehículo a partir del resto de las variables.\n"
   ]
  },
  {
   "cell_type": "code",
   "execution_count": 8,
   "metadata": {},
   "outputs": [],
   "source": [
    "import pandas as pd\n",
    "import csv\n",
    "from sklearn.linear_model import LinearRegression\n",
    "from sklearn.metrics import mean_squared_error\n",
    "from sklearn.metrics import mean_absolute_error\n",
    "from sklearn.metrics import median_absolute_error\n",
    "from sklearn.model_selection import train_test_split\n",
    "from pprint import pprint"
   ]
  },
  {
   "cell_type": "code",
   "execution_count": null,
   "metadata": {},
   "outputs": [],
   "source": []
  },
  {
   "cell_type": "code",
   "execution_count": 9,
   "metadata": {},
   "outputs": [],
   "source": [
    "data = pd.read_csv('auto.csv', sep=',')"
   ]
  },
  {
   "cell_type": "code",
   "execution_count": 12,
   "metadata": {},
   "outputs": [
    {
     "data": {
      "text/html": [
       "<div>\n",
       "<style scoped>\n",
       "    .dataframe tbody tr th:only-of-type {\n",
       "        vertical-align: middle;\n",
       "    }\n",
       "\n",
       "    .dataframe tbody tr th {\n",
       "        vertical-align: top;\n",
       "    }\n",
       "\n",
       "    .dataframe thead th {\n",
       "        text-align: right;\n",
       "    }\n",
       "</style>\n",
       "<table border=\"1\" class=\"dataframe\">\n",
       "  <thead>\n",
       "    <tr style=\"text-align: right;\">\n",
       "      <th></th>\n",
       "      <th>cylinders</th>\n",
       "      <th>displacement</th>\n",
       "      <th>horsepower</th>\n",
       "      <th>weight</th>\n",
       "      <th>acceleration</th>\n",
       "      <th>model_year</th>\n",
       "      <th>origin</th>\n",
       "      <th>mpg</th>\n",
       "    </tr>\n",
       "  </thead>\n",
       "  <tbody>\n",
       "    <tr>\n",
       "      <th>0</th>\n",
       "      <td>8</td>\n",
       "      <td>307.0</td>\n",
       "      <td>130.0</td>\n",
       "      <td>3504.0</td>\n",
       "      <td>12.0</td>\n",
       "      <td>70</td>\n",
       "      <td>1</td>\n",
       "      <td>18.0</td>\n",
       "    </tr>\n",
       "    <tr>\n",
       "      <th>1</th>\n",
       "      <td>8</td>\n",
       "      <td>350.0</td>\n",
       "      <td>165.0</td>\n",
       "      <td>3693.0</td>\n",
       "      <td>11.5</td>\n",
       "      <td>70</td>\n",
       "      <td>1</td>\n",
       "      <td>15.0</td>\n",
       "    </tr>\n",
       "    <tr>\n",
       "      <th>2</th>\n",
       "      <td>8</td>\n",
       "      <td>318.0</td>\n",
       "      <td>150.0</td>\n",
       "      <td>3436.0</td>\n",
       "      <td>11.0</td>\n",
       "      <td>70</td>\n",
       "      <td>1</td>\n",
       "      <td>18.0</td>\n",
       "    </tr>\n",
       "    <tr>\n",
       "      <th>3</th>\n",
       "      <td>8</td>\n",
       "      <td>304.0</td>\n",
       "      <td>150.0</td>\n",
       "      <td>3433.0</td>\n",
       "      <td>12.0</td>\n",
       "      <td>70</td>\n",
       "      <td>1</td>\n",
       "      <td>16.0</td>\n",
       "    </tr>\n",
       "    <tr>\n",
       "      <th>4</th>\n",
       "      <td>8</td>\n",
       "      <td>302.0</td>\n",
       "      <td>140.0</td>\n",
       "      <td>3449.0</td>\n",
       "      <td>10.5</td>\n",
       "      <td>70</td>\n",
       "      <td>1</td>\n",
       "      <td>17.0</td>\n",
       "    </tr>\n",
       "  </tbody>\n",
       "</table>\n",
       "</div>"
      ],
      "text/plain": [
       "   cylinders  displacement  horsepower  weight  acceleration  model_year  \\\n",
       "0          8         307.0       130.0  3504.0          12.0          70   \n",
       "1          8         350.0       165.0  3693.0          11.5          70   \n",
       "2          8         318.0       150.0  3436.0          11.0          70   \n",
       "3          8         304.0       150.0  3433.0          12.0          70   \n",
       "4          8         302.0       140.0  3449.0          10.5          70   \n",
       "\n",
       "   origin   mpg  \n",
       "0       1  18.0  \n",
       "1       1  15.0  \n",
       "2       1  18.0  \n",
       "3       1  16.0  \n",
       "4       1  17.0  "
      ]
     },
     "execution_count": 12,
     "metadata": {},
     "output_type": "execute_result"
    }
   ],
   "source": [
    "data.head()"
   ]
  },
  {
   "cell_type": "markdown",
   "metadata": {},
   "source": [
    "Hacemos un split con las variables independientes y la variable objetivo."
   ]
  },
  {
   "cell_type": "code",
   "execution_count": 15,
   "metadata": {},
   "outputs": [
    {
     "data": {
      "text/plain": [
       "0      18.0\n",
       "1      15.0\n",
       "2      18.0\n",
       "3      16.0\n",
       "4      17.0\n",
       "       ... \n",
       "387    27.0\n",
       "388    44.0\n",
       "389    32.0\n",
       "390    28.0\n",
       "391    31.0\n",
       "Name: mpg, Length: 392, dtype: float64"
      ]
     },
     "execution_count": 15,
     "metadata": {},
     "output_type": "execute_result"
    }
   ],
   "source": [
    "target = 'mpg'\n",
    "features = list(data.columns)\n",
    "features.remove('mpg')\n",
    "x = data[features]\n",
    "y = data[target]\n",
    "x.head(5)\n",
    "y"
   ]
  },
  {
   "cell_type": "markdown",
   "metadata": {},
   "source": [
    "Dividimos los datos en train y test para evaluar el modelo posteriormente. "
   ]
  },
  {
   "cell_type": "code",
   "execution_count": 16,
   "metadata": {},
   "outputs": [],
   "source": [
    "x_train, x_test, y_train, y_test = train_test_split(x,y)"
   ]
  },
  {
   "cell_type": "code",
   "execution_count": 18,
   "metadata": {
    "collapsed": true
   },
   "outputs": [
    {
     "name": "stdout",
     "output_type": "stream",
     "text": [
      "Count x variables categorizadas      cylinders  displacement  horsepower  weight  70  71  72  73  74  75  76  \\\n",
      "0            8         307.0       130.0  3504.0   1   0   0   0   0   0   0   \n",
      "1            8         350.0       165.0  3693.0   1   0   0   0   0   0   0   \n",
      "2            8         318.0       150.0  3436.0   1   0   0   0   0   0   0   \n",
      "3            8         304.0       150.0  3433.0   1   0   0   0   0   0   0   \n",
      "4            8         302.0       140.0  3449.0   1   0   0   0   0   0   0   \n",
      "..         ...           ...         ...     ...  ..  ..  ..  ..  ..  ..  ..   \n",
      "387          4         140.0        86.0  2790.0   0   0   0   0   0   0   0   \n",
      "388          4          97.0        52.0  2130.0   0   0   0   0   0   0   0   \n",
      "389          4         135.0        84.0  2295.0   0   0   0   0   0   0   0   \n",
      "390          4         120.0        79.0  2625.0   0   0   0   0   0   0   0   \n",
      "391          4         119.0        82.0  2720.0   0   0   0   0   0   0   0   \n",
      "\n",
      "     77  78  79  80  81  82  1  2  3  \n",
      "0     0   0   0   0   0   0  1  0  0  \n",
      "1     0   0   0   0   0   0  1  0  0  \n",
      "2     0   0   0   0   0   0  1  0  0  \n",
      "3     0   0   0   0   0   0  1  0  0  \n",
      "4     0   0   0   0   0   0  1  0  0  \n",
      "..   ..  ..  ..  ..  ..  .. .. .. ..  \n",
      "387   0   0   0   0   0   1  1  0  0  \n",
      "388   0   0   0   0   0   1  0  1  0  \n",
      "389   0   0   0   0   0   1  1  0  0  \n",
      "390   0   0   0   0   0   1  1  0  0  \n",
      "391   0   0   0   0   0   1  1  0  0  \n",
      "\n",
      "[392 rows x 20 columns]\n"
     ]
    }
   ],
   "source": [
    "x_categorize = pd.concat([x['cylinders'],\n",
    "                      x['displacement'],\n",
    "                      x['horsepower'],\n",
    "                      x['weight'],\n",
    "                      pd.get_dummies(x['model_year']),\n",
    "                      pd.get_dummies(x['origin'])], axis=1)\n",
    "print('Count x variables categorizadas',x_categorize)"
   ]
  },
  {
   "cell_type": "markdown",
   "metadata": {},
   "source": [
    "Creamos el modelo"
   ]
  },
  {
   "cell_type": "code",
   "execution_count": 19,
   "metadata": {},
   "outputs": [
    {
     "data": {
      "text/plain": [
       "LinearRegression(copy_X=True, fit_intercept=True, n_jobs=None, normalize=True)"
      ]
     },
     "execution_count": 19,
     "metadata": {},
     "output_type": "execute_result"
    }
   ],
   "source": [
    "model = LinearRegression(normalize = True)\n",
    "model.fit(x_train,y_train)"
   ]
  },
  {
   "cell_type": "markdown",
   "metadata": {},
   "source": [
    "Evaluamos el modelo"
   ]
  },
  {
   "cell_type": "code",
   "execution_count": 24,
   "metadata": {},
   "outputs": [
    {
     "name": "stdout",
     "output_type": "stream",
     "text": [
      "LinearRegression(copy_X=True, fit_intercept=True, n_jobs=None, normalize=True)\n",
      "R2 en entrenamiento es :  0.8135944413118439\n",
      "R2 en test es :  0.8330937060588071\n",
      "coeficientes [-0.34379381  0.01575533 -0.03084452 -0.00598911  0.06552775  0.70952931\n",
      "  1.3674933 ]\n",
      "Error cuadrático medio 10.234462458443614\n",
      "Error absoluto medio 2.4622490850117673\n",
      "Mediana del error absoluto 1.966622417728182\n"
     ]
    }
   ],
   "source": [
    "predict_train = model.predict(x_train)\n",
    "predict_test = model.predict(x_test)\n",
    "print(model)\n",
    "print('R2 en entrenamiento es : ', model.score(x_train, y_train))\n",
    "print('R2 en test es : ', model.score(x_test, y_test))\n",
    "print('coeficientes', model.coef_)\n",
    "print('Error cuadrático medio', mean_squared_error(predict_test, y_test))\n",
    "print('Error absoluto medio', mean_absolute_error(predict_test, y_test))\n",
    "print('Mediana del error absoluto', median_absolute_error(predict_test, y_test))"
   ]
  },
  {
   "cell_type": "markdown",
   "metadata": {},
   "source": [
    "Conclusión: Para mirar si el modelo queda sobreajustado, se ha usado la función train_test_split. Se ha creado el modelo con los datos de entrenamiento y se ha comprado que R2 es similar para ambos grupos. El modelo no aparenta estar sobreajustado. "
   ]
  },
  {
   "cell_type": "code",
   "execution_count": null,
   "metadata": {},
   "outputs": [],
   "source": []
  },
  {
   "cell_type": "code",
   "execution_count": null,
   "metadata": {},
   "outputs": [],
   "source": []
  },
  {
   "cell_type": "code",
   "execution_count": null,
   "metadata": {},
   "outputs": [],
   "source": []
  },
  {
   "cell_type": "code",
   "execution_count": null,
   "metadata": {},
   "outputs": [],
   "source": []
  },
  {
   "cell_type": "code",
   "execution_count": null,
   "metadata": {},
   "outputs": [],
   "source": []
  }
 ],
 "metadata": {
  "kernelspec": {
   "display_name": "Python 3",
   "language": "python",
   "name": "python3"
  },
  "language_info": {
   "codemirror_mode": {
    "name": "ipython",
    "version": 3
   },
   "file_extension": ".py",
   "mimetype": "text/x-python",
   "name": "python",
   "nbconvert_exporter": "python",
   "pygments_lexer": "ipython3",
   "version": "3.6.9"
  }
 },
 "nbformat": 4,
 "nbformat_minor": 2
}
