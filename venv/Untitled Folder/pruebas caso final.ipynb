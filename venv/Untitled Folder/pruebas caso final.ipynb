{
 "cells": [
  {
   "cell_type": "code",
   "execution_count": null,
   "metadata": {},
   "outputs": [],
   "source": []
  },
  {
   "cell_type": "code",
   "execution_count": null,
   "metadata": {},
   "outputs": [],
   "source": []
  },
  {
   "cell_type": "code",
   "execution_count": 4,
   "metadata": {},
   "outputs": [],
   "source": [
    "#1. Se crea un corpus de frases de ejemplo.\n",
    "\n",
    "corpus = ['Me pones un pincho de tortilla, por favor?', 'quiero una pizza margherita']\n",
    "    "
   ]
  },
  {
   "cell_type": "code",
   "execution_count": null,
   "metadata": {},
   "outputs": [],
   "source": [
    "// **************************************************\n",
    "\n",
    "// 2. Después, se debe entrenar un tagger para el español (es necesario consultar la práctica 2 de NLTK en la que usábamos\n",
    "\n",
    "// el cess esp para obtener los tags de un corpus en español).\n",
    "\n",
    "\n",
    "spanish_pos_tagger = … .train(cess_esp)\n",
    "\n",
    " "
   ]
  }
 ],
 "metadata": {
  "kernelspec": {
   "display_name": "Python 3",
   "language": "python",
   "name": "python3"
  },
  "language_info": {
   "codemirror_mode": {
    "name": "ipython",
    "version": 3
   },
   "file_extension": ".py",
   "mimetype": "text/x-python",
   "name": "python",
   "nbconvert_exporter": "python",
   "pygments_lexer": "ipython3",
   "version": "3.6.9"
  }
 },
 "nbformat": 4,
 "nbformat_minor": 2
}
